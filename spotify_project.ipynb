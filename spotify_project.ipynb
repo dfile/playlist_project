{
 "cells": [
  {
   "cell_type": "markdown",
   "metadata": {},
   "source": [
    "## Imports"
   ]
  },
  {
   "cell_type": "code",
   "execution_count": 8,
   "metadata": {
    "collapsed": true
   },
   "outputs": [],
   "source": [
    "from bs4 import BeautifulSoup\n",
    "import urllib\n",
    "import os"
   ]
  },
  {
   "cell_type": "code",
   "execution_count": 2,
   "metadata": {
    "collapsed": true
   },
   "outputs": [],
   "source": [
    "import spotipy\n",
    "import spotipy.util as util"
   ]
  },
  {
   "cell_type": "markdown",
   "metadata": {},
   "source": [
    "## Parse HTML"
   ]
  },
  {
   "cell_type": "code",
   "execution_count": 3,
   "metadata": {
    "collapsed": true
   },
   "outputs": [],
   "source": [
    "def get_beaut_soup(url):\n",
    "    \n",
    "    with urllib.request.urlopen(url) as response:\n",
    "        response = response.read()\n",
    "    page = BeautifulSoup(response, 'html.parser')\n",
    "    \n",
    "    return page"
   ]
  },
  {
   "cell_type": "code",
   "execution_count": 4,
   "metadata": {
    "collapsed": true
   },
   "outputs": [],
   "source": [
    "def clean_headliner(headliner):\n",
    "    if \"(\" in headliner:\n",
    "        return headliner.split(\" (\")[0]\n",
    "    else:\n",
    "        return headliner"
   ]
  },
  {
   "cell_type": "code",
   "execution_count": 5,
   "metadata": {
    "collapsed": true
   },
   "outputs": [],
   "source": [
    "def parse_r5(url=\"https://www.r5productions.com/\"):\n",
    "    \n",
    "    headliners = []\n",
    "    page = get_beaut_soup(url)\n",
    "    headliners_html = page.find_all(\"h1\")\n",
    "    \n",
    "    headliners = [clean_headliner(headliner.text) for headliner in headliners_html if '\\n' not in headliner.text]\n",
    "    headliners = list(set(headliners))\n",
    "    return headliners"
   ]
  },
  {
   "cell_type": "code",
   "execution_count": 6,
   "metadata": {
    "collapsed": true
   },
   "outputs": [],
   "source": [
    "artists = parse_r5()"
   ]
  },
  {
   "cell_type": "markdown",
   "metadata": {},
   "source": [
    "## Spotify Authentication"
   ]
  },
  {
   "cell_type": "code",
   "execution_count": 10,
   "metadata": {},
   "outputs": [],
   "source": [
    "client_id = os.environ['SPOTIFY_CLIENT_ID']\n",
    "client_secret = os.environ['SPOTIFY_CLIENT_SECRET']"
   ]
  },
  {
   "cell_type": "code",
   "execution_count": 43,
   "metadata": {
    "collapsed": true
   },
   "outputs": [],
   "source": [
    "username=\"\" #Insert Username\n",
    "scope = \"playlist-modify-private\""
   ]
  },
  {
   "cell_type": "code",
   "execution_count": 12,
   "metadata": {
    "collapsed": true
   },
   "outputs": [],
   "source": [
    "token = util.prompt_for_user_token(username,\n",
    "                                       scope,\n",
    "                                       client_id=client_id,\n",
    "                                       client_secret=client_secret,\n",
    "                                       redirect_uri=\"http://localhost:8888\")"
   ]
  },
  {
   "cell_type": "code",
   "execution_count": 13,
   "metadata": {
    "collapsed": true
   },
   "outputs": [],
   "source": [
    "service = spotipy.Spotify(auth=token)"
   ]
  },
  {
   "cell_type": "markdown",
   "metadata": {},
   "source": [
    "## Get Tracks"
   ]
  },
  {
   "cell_type": "code",
   "execution_count": 14,
   "metadata": {
    "collapsed": true
   },
   "outputs": [],
   "source": [
    "def get_spotify_uri(name, service):\n",
    "    results = service.search(q=\"artist:\" + name, type=\"artist\")\n",
    "    uri = \"\"\n",
    "    try:\n",
    "        uri = results[\"artists\"][\"items\"][0][\"uri\"]\n",
    "    except:\n",
    "        pass\n",
    "    return uri"
   ]
  },
  {
   "cell_type": "code",
   "execution_count": 15,
   "metadata": {
    "collapsed": true
   },
   "outputs": [],
   "source": [
    "def get_top_tracks(uri, service, number=3):\n",
    "    results = service.artist_top_tracks(uri)\n",
    "    tracks = [track['id'] for track in results[\"tracks\"][:number]]\n",
    "    return tracks"
   ]
  },
  {
   "cell_type": "markdown",
   "metadata": {},
   "source": [
    "## Create Playlist"
   ]
  },
  {
   "cell_type": "code",
   "execution_count": 16,
   "metadata": {
    "collapsed": true
   },
   "outputs": [],
   "source": [
    "def make_playlist_from_tracks(username, playlist_name, tracks, service, playlist_description=\"\"):\n",
    "    playlist = service.user_playlist_create(username, playlist_name, False)\n",
    "    \n",
    "    playlist_id = playlist[\"id\"]\n",
    "    \n",
    "    service.user_playlist_add_tracks(username, playlist_id, tracks)\n",
    "    \n",
    "    return"
   ]
  },
  {
   "cell_type": "code",
   "execution_count": 17,
   "metadata": {
    "collapsed": true
   },
   "outputs": [],
   "source": [
    "def make_playlist(service, username, artists, date):\n",
    "    uris = [get_spotify_uri(artist, service) for artist in artists]\n",
    "    tracks = [track for uri in uris for track in get_top_tracks(uri, service)]\n",
    "    \n",
    "    playlist_name = \"R5 Playlist \" + date\n",
    "    make_playlist_from_tracks(username, playlist_name, tracks, service)\n",
    "    \n",
    "    return"
   ]
  },
  {
   "cell_type": "code",
   "execution_count": 18,
   "metadata": {
    "collapsed": true
   },
   "outputs": [],
   "source": [
    "make_playlist(service, username, artists, \"Feb 2018\")"
   ]
  },
  {
   "cell_type": "code",
   "execution_count": null,
   "metadata": {
    "collapsed": true
   },
   "outputs": [],
   "source": []
  }
 ],
 "metadata": {
  "kernelspec": {
   "display_name": "Python 3",
   "language": "python",
   "name": "python3"
  },
  "language_info": {
   "codemirror_mode": {
    "name": "ipython",
    "version": 3
   },
   "file_extension": ".py",
   "mimetype": "text/x-python",
   "name": "python",
   "nbconvert_exporter": "python",
   "pygments_lexer": "ipython3",
   "version": "3.6.1"
  }
 },
 "nbformat": 4,
 "nbformat_minor": 2
}
